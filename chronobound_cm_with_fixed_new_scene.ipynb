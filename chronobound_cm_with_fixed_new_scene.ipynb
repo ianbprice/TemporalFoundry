{
  "cells": [
    {
      "cell_type": "markdown",
      "id": "9d6acfd0",
      "metadata": {
        "id": "9d6acfd0"
      },
      "source": [
        "# ChronoBound CM – Fluid Narrative with Starting Scene for New Timelines\n",
        "This notebook now correctly injects a custom starting scene when a new tale is chosen."
      ]
    },
    {
      "cell_type": "code",
      "execution_count": 1,
      "id": "88dd0812",
      "metadata": {
        "colab": {
          "base_uri": "https://localhost:8080/"
        },
        "id": "88dd0812",
        "outputId": "cd966d90-2a84-4aba-caf3-7c678dd527cc"
      },
      "outputs": [
        {
          "name": "stdout",
          "output_type": "stream",
          "text": [
            "Enter your OpenAI API key: ··········\n"
          ]
        }
      ],
      "source": [
        "# !pip install --upgrade openai\n",
        "import openai\n",
        "import getpass\n",
        "import re\n",
        "import random\n",
        "\n",
        "openai.api_key = getpass.getpass('Enter your OpenAI API key: ')"
      ]
    },
    {
      "cell_type": "code",
      "execution_count": 2,
      "id": "b5213eeb",
      "metadata": {
        "id": "b5213eeb"
      },
      "outputs": [],
      "source": [
        "# Define scenes and memory\n",
        "new_scene = '''[SCENE START: A Temporal Breach on the Iron Coast]\n",
        "\n",
        "The sky above the Iron Coast fractures like glass. From the rift spills a haze of violet mist, humming with the static of unraveling timelines.\n",
        "\n",
        "You find yourself on the threshold of a breach — its center burning like a second sun. Temporal tidepools swirl at your feet, distorting the sand beneath your boots. Strange birds wheel overhead, their cries echoing forward and backward in time.\n",
        "\n",
        "A voice, not quite yours, not quite alien, whispers: \"Step forward, and forge the thread anew...\"\n",
        "\n",
        "'''\n",
        "default_memory = [\n",
        "    'Faction: Iron Thread',\n",
        "    'Refused Echo Priestess’s offer',\n",
        "    'Cursed by the Hollow God',\n",
        "    'Entered Hollowstar'\n",
        "]"
      ]
    },
    {
      "cell_type": "code",
      "execution_count": 5,
      "id": "dd94b86b",
      "metadata": {
        "colab": {
          "base_uri": "https://localhost:8080/"
        },
        "id": "dd94b86b",
        "outputId": "f71e21d4-b68a-4cc2-e50a-d0ff8d2374e3"
      },
      "outputs": [
        {
          "output_type": "stream",
          "name": "stdout",
          "text": [
            "Would you like to continue your previous journey? (yes / no): no\n",
            "Beginning a new tale through the timelines...\n",
            "\n",
            "[SCENE START: A Temporal Breach on the Iron Coast]\n",
            "\n",
            "The sky above the Iron Coast fractures like glass. From the rift spills a haze of violet mist, humming with the static of unraveling timelines.\n",
            "\n",
            "You find yourself on the threshold of a breach — its center burning like a second sun. Temporal tidepools swirl at your feet, distorting the sand beneath your boots. Strange birds wheel overhead, their cries echoing forward and backward in time.\n",
            "\n",
            "A voice, not quite yours, not quite alien, whispers: \"Step forward, and forge the thread anew...\"\n",
            "\n",
            "\n",
            "\n",
            "What do you do?\n"
          ]
        }
      ],
      "source": [
        "# Session setup\n",
        "scene_prompt = ''\n",
        "memory_notes = []\n",
        "scene_progression = []\n",
        "in_combat = False\n",
        "initiative_rolled = False\n",
        "new_tale = False\n",
        "\n",
        "choice = input('Would you like to continue your previous journey? (yes / no): ').strip().lower()\n",
        "if choice in ['yes', 'y']:\n",
        "    print('Resuming your previous story...\\n')\n",
        "    scene_prompt = '[SCENE START: The Vault Beneath Hollowstar]\\nThe descent was silent... (continuing)'\n",
        "    memory_notes = default_memory.copy()\n",
        "    scene_progression.append('Resumed from Hollowstar Vault — Thread Guardian encounter')\n",
        "else:\n",
        "    print('Beginning a new tale through the timelines...\\n')\n",
        "    scene_prompt = new_scene\n",
        "    memory_notes = default_memory.copy()\n",
        "    scene_progression.append('Initiated new thread from Iron Coast Breach')\n",
        "    new_tale = True\n",
        "    print(scene_prompt)\n",
        "    print('\\nWhat do you do?')"
      ]
    },
    {
      "cell_type": "code",
      "execution_count": null,
      "id": "83d29443",
      "metadata": {
        "id": "83d29443"
      },
      "outputs": [],
      "source": [
        "# Main interactive loop\n",
        "print(\"\\nChronoBound CM — Fluid Interactive Session\\nType 'exit' to quit.\\n\")\n",
        "\n",
        "combat_keywords = [\"attack\", \"draw weapon\", \"strike\", \"swing\", \"stab\", \"shoot\", \"fire\", \"fight\", \"roll initiative\"]\n",
        "\n",
        "def dynamic_scene_prompt():\n",
        "    if new_tale and len(scene_progression) == 1:\n",
        "        return \"The rift pulses and time bends. What will you do?\"\n",
        "    last = scene_progression[-1]\n",
        "    options = [\n",
        "        f\"The Vault responds subtly to your last move: {last}\",\n",
        "        f\"Dust shifts and echoes your recent decision: {last}\",\n",
        "        f\"The threads remember — {last} — and now?\",\n",
        "        f\"Time hums a question after your act: {last}\"\n",
        "    ]\n",
        "    return random.choice(options)\n",
        "\n",
        "while True:\n",
        "    print(\"\\n\" + dynamic_scene_prompt())\n",
        "    player_input = input(\"What does the player do or say? \")\n",
        "    if player_input.strip().lower() in ['exit', 'quit']:\n",
        "        print(\"Exiting ChronoMaster session.\")\n",
        "        break\n",
        "\n",
        "    scene_progression.append(player_input.strip())\n",
        "    triggered_combat = any(re.search(rf\"\\b{k}\\b\", player_input.lower()) for k in combat_keywords)\n",
        "\n",
        "    combat_injection = ''\n",
        "    if triggered_combat and not in_combat:\n",
        "        in_combat = True\n",
        "        initiative_rolled = True\n",
        "        player_init = random.randint(10, 20)\n",
        "        enemy_init = random.randint(1, 15)\n",
        "        combat_injection = f\"\"\"[COMBAT MODE ENGAGED]\\nYou have awakened a threat within the timeline.\\n🎲 Rolling for initiative…\\nYou: {player_init}\\nEnemy: {enemy_init}\\nTime fractures. Battle begins.\"\"\"\n",
        "    elif in_combat and not triggered_combat:\n",
        "        combat_injection = \"[COMBAT CONTINUES] The enemy awaits your next move.\"\n",
        "\n",
        "    full_prompt = f\"\"\"{scene_prompt}\n",
        "\n",
        "[MEMORY NOTES]\\n{chr(10).join(memory_notes)}\n",
        "\n",
        "[PLAYER INPUT]\\n{player_input}\n",
        "\n",
        "{combat_injection}\n",
        "\n",
        "[CM RESPONSE]\"\"\"\n",
        "\n",
        "    response = openai.chat.completions.create(\n",
        "        model=\"gpt-4\",\n",
        "        messages=[\n",
        "            {\n",
        "                \"role\": \"system\",\n",
        "                \"content\": \"You are the ChronoMaster, an AI GM in a fractured multiverse. Speak with cinematic clarity, but keep responses concise and impactful. Use 2–4 short paragraphs max. Avoid over-explaining. Let the player drive the pace.\"\n",
        "            },\n",
        "            {\n",
        "                \"role\": \"user\",\n",
        "                \"content\": full_prompt\n",
        "            }\n",
        "        ],\n",
        "        temperature=0.7,\n",
        "        max_tokens=400\n",
        "    )\n",
        "\n",
        "    cm_reply = response.choices[0].message.content\n",
        "    print(\"\\nChronoMaster Responds:\\n\")\n",
        "    print(cm_reply)\n",
        "    print(\"\\n\" + \"-\"*80 + \"\\n\")"
      ]
    }
  ],
  "metadata": {
    "kernelspec": {
      "display_name": "Python 3",
      "language": "python",
      "name": "python3"
    },
    "language_info": {
      "name": "python",
      "version": "3.11"
    },
    "colab": {
      "provenance": []
    }
  },
  "nbformat": 4,
  "nbformat_minor": 5
}